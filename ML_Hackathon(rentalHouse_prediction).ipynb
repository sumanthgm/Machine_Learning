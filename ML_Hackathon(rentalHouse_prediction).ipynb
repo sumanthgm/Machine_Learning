{
  "cells": [
    {
      "cell_type": "markdown",
      "metadata": {
        "id": "view-in-github",
        "colab_type": "text"
      },
      "source": [
        "<a href=\"https://colab.research.google.com/github/sumanthgm/Machine_Learning/blob/main/ML_Hackathon(rentalHouse_prediction).ipynb\" target=\"_parent\"><img src=\"https://colab.research.google.com/assets/colab-badge.svg\" alt=\"Open In Colab\"/></a>"
      ]
    },
    {
      "cell_type": "markdown",
      "id": "9ab4c734",
      "metadata": {
        "id": "9ab4c734"
      },
      "source": [
        "### ML_Hackathon"
      ]
    },
    {
      "cell_type": "code",
      "execution_count": 23,
      "id": "f59f2990",
      "metadata": {
        "id": "f59f2990"
      },
      "outputs": [],
      "source": [
        "# Import libraries\n",
        "import pandas as pd\n",
        "import numpy as np\n",
        "from sklearn.model_selection import train_test_split\n",
        "from sklearn.preprocessing import OneHotEncoder\n",
        "from sklearn.compose import ColumnTransformer\n",
        "from sklearn.pipeline import Pipeline\n",
        "from sklearn.ensemble import RandomForestRegressor\n",
        "from sklearn.metrics import mean_squared_error"
      ]
    },
    {
      "cell_type": "code",
      "source": [
        "from google.colab import drive\n",
        "drive.mount(\"/content/drive\")"
      ],
      "metadata": {
        "colab": {
          "base_uri": "https://localhost:8080/"
        },
        "id": "XHb6s_fg-xU8",
        "outputId": "a5e8b8d7-6135-47ee-f489-15b2d51fa764"
      },
      "id": "XHb6s_fg-xU8",
      "execution_count": 9,
      "outputs": [
        {
          "output_type": "stream",
          "name": "stdout",
          "text": [
            "Drive already mounted at /content/drive; to attempt to forcibly remount, call drive.mount(\"/content/drive\", force_remount=True).\n"
          ]
        }
      ]
    },
    {
      "cell_type": "code",
      "execution_count": 24,
      "id": "944ceb88",
      "metadata": {
        "id": "944ceb88"
      },
      "outputs": [],
      "source": [
        "# Load datasets\n",
        "train = pd.read_csv('/content/drive/MyDrive/Data - Science (PES)/Sem 1/Machine Learning 1/Hackathon/Dataset/train_(2)_(1)_(1).csv')\n",
        "test = pd.read_csv('/content/drive/MyDrive/Data - Science (PES)/Sem 1/Machine Learning 1/Hackathon/Dataset/test_(2)_(1)_(1).csv')\n",
        "avg_rent = pd.read_csv('/content/drive/MyDrive/Data - Science (PES)/Sem 1/Machine Learning 1/Hackathon/Dataset/avg_rent_(1)_(1)_(1).csv')\n",
        "dist = pd.read_csv('/content/drive/MyDrive/Data - Science (PES)/Sem 1/Machine Learning 1/Hackathon/Dataset/dist_from_city_centre_(1)_(1)_(1).csv')"
      ]
    },
    {
      "cell_type": "code",
      "execution_count": 31,
      "id": "3df8f046",
      "metadata": {
        "id": "3df8f046",
        "colab": {
          "base_uri": "https://localhost:8080/"
        },
        "outputId": "d1776b48-0ea5-4e5d-8e21-ceea4f0e563b"
      },
      "outputs": [
        {
          "output_type": "stream",
          "name": "stdout",
          "text": [
            "0         39.07\n",
            "1        120.00\n",
            "2         62.00\n",
            "3         95.00\n",
            "4         51.00\n",
            "          ...  \n",
            "10651     45.00\n",
            "10652     69.90\n",
            "10653     49.00\n",
            "10654     34.00\n",
            "10655     54.00\n",
            "Name: price, Length: 10116, dtype: float64\n"
          ]
        }
      ],
      "source": [
        "# 1. Features and Target\n",
        "X = train.drop(['price'], axis=1)\n",
        "y = train['price']\n",
        "\n",
        "\n",
        "# 2. Categorical columns to encode\n",
        "categorical_cols = ['area_type', 'availability', 'location']\n",
        "\n",
        "# 3. Preprocessing pipeline for encoding\n",
        "preprocessor = ColumnTransformer(\n",
        "    transformers=[\n",
        "        ('cat', OneHotEncoder(handle_unknown='ignore'), categorical_cols)\n",
        "    ],\n",
        "    remainder='passthrough'  # Keep other numerical columns as is\n",
        ")\n",
        "\n",
        "# 4. Full pipeline with Random Forest\n",
        "model_pipeline = Pipeline(steps=[\n",
        "    ('preprocessor', preprocessor),\n",
        "    ('regressor', RandomForestRegressor(random_state=42))\n",
        "])\n",
        "\n",
        "# 5. Train-test split\n",
        "X_train, X_val, y_train, y_val = train_test_split(\n",
        "    X, y, test_size=0.2, random_state=42\n",
        ")\n",
        "\n",
        "# 6. Train the model\n",
        "model_pipeline.fit(X_train, y_train)\n",
        "\n",
        "# 7. Predict and calculate RMSE\n",
        "val_preds = model_pipeline.predict(X_val)\n",
        "rmse_score = np.sqrt(mean_squared_error(y_val, val_preds))\n",
        "\n",
        "# 8. Print the RMSE\n",
        "print(f\"Model used: Random Forest Regressor\")\n",
        "print(f\"Encoding: OneHotEncoder for area_type, availability, and location\")\n",
        "print(f\"RMSE on validation set: ≈ {rmse_score:.2f} Lakhs\")\n",
        ""
      ]
    },
    {
      "cell_type": "code",
      "execution_count": 27,
      "id": "68d33bc6",
      "metadata": {
        "id": "68d33bc6",
        "colab": {
          "base_uri": "https://localhost:8080/"
        },
        "outputId": "2685d359-48e1-4d5f-e8d5-7e5918cfa7ec"
      },
      "outputs": [
        {
          "output_type": "stream",
          "name": "stdout",
          "text": [
            "Validation RMSE: 70.2913075721772\n"
          ]
        },
        {
          "output_type": "stream",
          "name": "stderr",
          "text": [
            "<ipython-input-27-60dbb8bb7ba0>:19: FutureWarning: A value is trying to be set on a copy of a DataFrame or Series through chained assignment using an inplace method.\n",
            "The behavior will change in pandas 3.0. This inplace method will never work because the intermediate object on which we are setting values always behaves as a copy.\n",
            "\n",
            "For example, when doing 'df[col].method(value, inplace=True)', try using 'df.method({col: value}, inplace=True)' or df[col] = df[col].method(value) instead, to perform the operation inplace on the original object.\n",
            "\n",
            "\n",
            "  test[col].fillna(train[col].median(), inplace=True)\n"
          ]
        }
      ],
      "source": [
        "# Model pipeline\n",
        "X = train.drop(['price'], axis=1)\n",
        "y = train['price']\n",
        "categorical_cols = ['area_type', 'availability', 'location']\n",
        "preprocessor = ColumnTransformer([('cat', OneHotEncoder(handle_unknown='ignore'), categorical_cols)], remainder='passthrough')\n",
        "model_pipeline = Pipeline([('preprocessor', preprocessor), ('regressor', RandomForestRegressor(random_state=42))])\n",
        "X_train, X_val, y_train, y_val = train_test_split(X, y, test_size=0.2, random_state=42)\n",
        "model_pipeline.fit(X_train, y_train)\n",
        "preds = model_pipeline.predict(X_val)\n",
        "\n",
        "mse = mean_squared_error(y_val, preds)\n",
        "rmse = np.sqrt(mse)\n",
        "\n",
        "# rmse = mean_squared_error(y_val, preds, squared=False)\n",
        "print(f'Validation RMSE: {rmse}')\n",
        "\n",
        "# Predict test and save\n",
        "for col in ['bath', 'balcony', 'bhk', 'total_sqft']:\n",
        "    test[col].fillna(train[col].median(), inplace=True)\n",
        "test_preds = model_pipeline.predict(test)\n",
        "submission = pd.DataFrame({'ID': test['ID'], 'price': test_preds})\n",
        "submission.to_csv('house_price_submission.csv', index=False)"
      ]
    },
    {
      "cell_type": "code",
      "execution_count": null,
      "id": "98798a46-5ab0-4567-a0b1-e757f97ac512",
      "metadata": {
        "id": "98798a46-5ab0-4567-a0b1-e757f97ac512"
      },
      "outputs": [],
      "source": []
    }
  ],
  "metadata": {
    "kernelspec": {
      "display_name": "Python 3",
      "language": "python",
      "name": "python3"
    },
    "language_info": {
      "name": "python",
      "version": "3.11"
    },
    "colab": {
      "provenance": [],
      "include_colab_link": true
    }
  },
  "nbformat": 4,
  "nbformat_minor": 5
}